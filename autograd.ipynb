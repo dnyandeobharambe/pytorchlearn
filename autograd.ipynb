{
  "nbformat": 4,
  "nbformat_minor": 0,
  "metadata": {
    "colab": {
      "name": "autograd.ipynb",
      "provenance": [],
      "collapsed_sections": [],
      "authorship_tag": "ABX9TyNS/wqWZ6VxhsNaOTp0EJrl",
      "include_colab_link": true
    },
    "kernelspec": {
      "name": "python3",
      "display_name": "Python 3"
    },
    "language_info": {
      "name": "python"
    }
  },
  "cells": [
    {
      "cell_type": "markdown",
      "metadata": {
        "id": "view-in-github",
        "colab_type": "text"
      },
      "source": [
        "<a href=\"https://colab.research.google.com/github/dnyandeobharambe/pytorchlearn/blob/main/autograd.ipynb\" target=\"_parent\"><img src=\"https://colab.research.google.com/assets/colab-badge.svg\" alt=\"Open In Colab\"/></a>"
      ]
    },
    {
      "cell_type": "code",
      "execution_count": null,
      "metadata": {
        "colab": {
          "base_uri": "https://localhost:8080/"
        },
        "id": "Pbp9wd9Rf-r9",
        "outputId": "e8011f54-ef5a-4e21-e5ee-860aafd971a3"
      },
      "outputs": [
        {
          "output_type": "stream",
          "name": "stdout",
          "text": [
            "tensor([-0.6406, -0.2666,  0.1082], requires_grad=True)\n",
            "tensor([1.3594, 1.7334, 2.1082], grad_fn=<AddBackward0>)\n",
            "tensor([3.6960, 6.0095, 8.8893], grad_fn=<MulBackward0>)\n",
            "tensor(6.0095, grad_fn=<MedianBackward0>)\n",
            "tensor([0.0000, 6.9337, 0.0000])\n",
            "tensor([5.4376e-01, 1.3867e+01, 8.4329e-04])\n"
          ]
        }
      ],
      "source": [
        "\n",
        "import torch\n",
        "# reuires_grad = True tracks gradient required any operation on also tracks it\n",
        "x = torch.randn(3,requires_grad=True)\n",
        "print(x)\n",
        "y = x + 2\n",
        "print(y)\n",
        "z = y*y*2\n",
        "print(z)\n",
        "t = z.median()\n",
        "print(t)\n",
        "\n",
        "#to calculate gradient of t with respect to x that is dt/dx\n",
        "# this works as t is scalar \n",
        "# note it required requires_grad= True on tensor\n",
        "#retain_graph=True used below as x.grad calculated again for dz/dx\n",
        "t.backward(retain_graph=True)\n",
        "print(x.grad)\n",
        "\n",
        "#calculate dz/dx\n",
        "# it errorout as internally it use vector jacolian method\n",
        "# it is multiplication of matrix with vector it also called as chain rule\n",
        "# so matrix should multiply be vector\n",
        "\n",
        "#z.backward()\n",
        "#print(x.grad)\n",
        "\n",
        "#it modified as below for dz/dx\n",
        "v = torch.tensor([0.1,1.0,0.0001], requires_grad=True)\n",
        "\n",
        "z.backward(v)\n",
        "print(x.grad)\n"
      ]
    },
    {
      "cell_type": "code",
      "source": [
        "# in pyrtch during training grad accumlated and gives wrong gradient\n",
        "# so it should reset before next run\n",
        "\n",
        "import torch\n",
        "weights = torch.ones(4,requires_grad=True)\n",
        "for epoch in range(3):\n",
        "  model_output = (weights*3).sum()\n",
        "  model_output.backward()\n",
        "  print(weights.grad)\n",
        "# we can this result is wrong as it should be always 3\n",
        "# so we need to reset it by adding weights.grad.zero_()"
      ],
      "metadata": {
        "colab": {
          "base_uri": "https://localhost:8080/"
        },
        "id": "s7itAPwS7Fn4",
        "outputId": "e39fa2f5-3326-41b0-f804-165539fd0e6c"
      },
      "execution_count": 1,
      "outputs": [
        {
          "output_type": "stream",
          "name": "stdout",
          "text": [
            "tensor([3., 3., 3., 3.])\n",
            "tensor([6., 6., 6., 6.])\n",
            "tensor([9., 9., 9., 9.])\n"
          ]
        }
      ]
    },
    {
      "cell_type": "code",
      "source": [
        "import torch\n",
        "weights = torch.ones(4,requires_grad=True)\n",
        "for epoch in range(3):\n",
        "  model_output = (weights*3).sum()\n",
        "  model_output.backward()\n",
        "  print(weights.grad)\n",
        "  weights.grad.zero_()"
      ],
      "metadata": {
        "colab": {
          "base_uri": "https://localhost:8080/"
        },
        "id": "UvQ6E9DT9nBW",
        "outputId": "bf3d791e-e733-47ad-be68-686fac2668d5"
      },
      "execution_count": 2,
      "outputs": [
        {
          "output_type": "stream",
          "name": "stdout",
          "text": [
            "tensor([3., 3., 3., 3.])\n",
            "tensor([3., 3., 3., 3.])\n",
            "tensor([3., 3., 3., 3.])\n"
          ]
        }
      ]
    }
  ]
}